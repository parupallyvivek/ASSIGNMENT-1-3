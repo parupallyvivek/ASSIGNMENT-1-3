{
  "nbformat": 4,
  "nbformat_minor": 0,
  "metadata": {
    "colab": {
      "provenance": [],
      "authorship_tag": "ABX9TyPcK71hPqWZ2JO7Nt0OVWYx",
      "include_colab_link": true
    },
    "kernelspec": {
      "name": "python3",
      "display_name": "Python 3"
    },
    "language_info": {
      "name": "python"
    }
  },
  "cells": [
    {
      "cell_type": "markdown",
      "metadata": {
        "id": "view-in-github",
        "colab_type": "text"
      },
      "source": [
        "<a href=\"https://colab.research.google.com/github/parupallyvivek/ASSIGNMENT-1-3/blob/main/ASSIGNMENT_1_3_8015.ipynb\" target=\"_parent\"><img src=\"https://colab.research.google.com/assets/colab-badge.svg\" alt=\"Open In Colab\"/></a>"
      ]
    },
    {
      "cell_type": "markdown",
      "source": [
        "1) Distribute Candy"
      ],
      "metadata": {
        "id": "1hieAbqudEjf"
      }
    },
    {
      "cell_type": "code",
      "execution_count": 1,
      "metadata": {
        "colab": {
          "base_uri": "https://localhost:8080/",
          "height": 0
        },
        "id": "z_MOq-ZOPldQ",
        "outputId": "e0728ade-1276-49b4-a09a-3781f2fbd072"
      },
      "outputs": [
        {
          "output_type": "stream",
          "name": "stdout",
          "text": [
            "3\n"
          ]
        }
      ],
      "source": [
        "def distribute_candies(A):\n",
        "    n = len(A)\n",
        "\n",
        "\n",
        "    candies = [1] * n\n",
        "\n",
        "    for i in range(1, n):\n",
        "        if A[i] > A[i - 1]:\n",
        "            candies[i] = candies[i - 1] + 1\n",
        "\n",
        "    for i in range(n - 2, -1, -1):\n",
        "        if A[i] > A[i + 1]:\n",
        "            candies[i] = max(candies[i], candies[i + 1] + 1)\n",
        "\n",
        "    return sum(candies)\n",
        "\n",
        "\n",
        "A = [1, 2]\n",
        "result = distribute_candies(A)\n",
        "print(result)\n"
      ]
    },
    {
      "cell_type": "markdown",
      "source": [
        "2) Best Time to Buy and Sell Stocks"
      ],
      "metadata": {
        "id": "KJrAoufDdBWd"
      }
    },
    {
      "cell_type": "code",
      "source": [
        "def max_profit(A):\n",
        "    n = len(A)\n",
        "\n",
        "    if n <= 1:\n",
        "        return 0\n",
        "    min_price = A[0]\n",
        "    max_profit = 0\n",
        "\n",
        "    for price in A:\n",
        "        min_price = min(min_price, price)\n",
        "        max_profit = max(max_profit, price - min_price)\n",
        "\n",
        "    return max_profit\n",
        "\n",
        "A1 = [1, 2]\n",
        "A2 = [1, 4, 5, 2, 4]\n",
        "\n",
        "result1 = max_profit(A1)\n",
        "result2 = max_profit(A2)\n",
        "\n",
        "print(result1)\n",
        "print(result2)\n"
      ],
      "metadata": {
        "colab": {
          "base_uri": "https://localhost:8080/",
          "height": 0
        },
        "id": "uTk7bdzQP5jf",
        "outputId": "fdc0f982-9176-4984-8271-c2767f88a115"
      },
      "execution_count": 2,
      "outputs": [
        {
          "output_type": "stream",
          "name": "stdout",
          "text": [
            "1\n",
            "4\n"
          ]
        }
      ]
    },
    {
      "cell_type": "code",
      "source": [],
      "metadata": {
        "id": "mfoqR5h4dV4I"
      },
      "execution_count": null,
      "outputs": []
    },
    {
      "cell_type": "markdown",
      "source": [
        "3)Stairs"
      ],
      "metadata": {
        "id": "ZmEgx_mKdd6d"
      }
    },
    {
      "cell_type": "code",
      "source": [
        "def climbStairs(A):\n",
        "    if A == 1:\n",
        "        return 1\n",
        "    if A == 2:\n",
        "        return 2\n",
        "\n",
        "    ways = [0] * (A + 1)\n",
        "\n",
        "    ways[1] = 1\n",
        "    ways[2] = 2\n",
        "\n",
        "    for i in range(3, A + 1):\n",
        "        ways[i] = ways[i - 1] + ways[i - 2]\n",
        "\n",
        "    return ways[A]\n",
        "\n",
        "\n",
        "A1 = 2\n",
        "A2 = 3\n",
        "\n",
        "result1 = climbStairs(A1)\n",
        "result2 = climbStairs(A2)\n",
        "\n",
        "print(result1)\n",
        "print(result2)"
      ],
      "metadata": {
        "colab": {
          "base_uri": "https://localhost:8080/",
          "height": 0
        },
        "id": "MCTC0PcoQRGX",
        "outputId": "fa026e25-6470-482d-e74a-cae8d02abe97"
      },
      "execution_count": 3,
      "outputs": [
        {
          "output_type": "stream",
          "name": "stdout",
          "text": [
            "2\n",
            "3\n"
          ]
        }
      ]
    },
    {
      "cell_type": "markdown",
      "source": [
        "4)Kth Row of Pascal's Triangle"
      ],
      "metadata": {
        "id": "5j4CIkdRdt7A"
      }
    },
    {
      "cell_type": "code",
      "source": [
        "def getRow(k):\n",
        "    if k < 0:\n",
        "        return []\n",
        "\n",
        "    row = [1]\n",
        "\n",
        "    for i in range(1, k + 1):\n",
        "\n",
        "        current_element = (row[i - 1] * (k - i + 1)) // i\n",
        "        row.append(current_element)\n",
        "\n",
        "    return row\n",
        "\n",
        "k = 3\n",
        "result = getRow(k)\n",
        "print(result)\n"
      ],
      "metadata": {
        "colab": {
          "base_uri": "https://localhost:8080/",
          "height": 0
        },
        "id": "5e7DaOxMQmQU",
        "outputId": "ca630f5d-f3a5-40ba-e31a-b0edb3017de3"
      },
      "execution_count": 4,
      "outputs": [
        {
          "output_type": "stream",
          "name": "stdout",
          "text": [
            "[1, 3, 3, 1]\n"
          ]
        }
      ]
    },
    {
      "cell_type": "markdown",
      "source": [
        "5) Repeat and Missing Number Array"
      ],
      "metadata": {
        "id": "o7o9AGald32X"
      }
    },
    {
      "cell_type": "code",
      "source": [
        "def repeatedNumber(A):\n",
        "    n = len(A)\n",
        "\n",
        "    repeated, missing = 0, 0\n",
        "\n",
        "    for i in range(n):\n",
        "        index = abs(A[i]) - 1\n",
        "\n",
        "        if A[index] > 0:\n",
        "            A[index] = -A[index]\n",
        "        else:\n",
        "            repeated = abs(A[i])\n",
        "\n",
        "    for i in range(n):\n",
        "        if A[i] > 0:\n",
        "            missing = i + 1\n",
        "            break\n",
        "\n",
        "    return [repeated, missing]\n",
        "\n",
        "input_array = [3, 1, 2, 5, 3]\n",
        "output = repeatedNumber(input_array)\n",
        "print(output)"
      ],
      "metadata": {
        "id": "JvQud_fZRKFX",
        "outputId": "90202c73-5516-4a68-a5d7-832a0c24ff81",
        "colab": {
          "base_uri": "https://localhost:8080/",
          "height": 0
        }
      },
      "execution_count": 5,
      "outputs": [
        {
          "output_type": "stream",
          "name": "stdout",
          "text": [
            "[3, 4]\n"
          ]
        }
      ]
    },
    {
      "cell_type": "markdown",
      "source": [
        "Assignment-2\n",
        "\n",
        "6)Add One To Number"
      ],
      "metadata": {
        "id": "CJS-7nZOd-I-"
      }
    },
    {
      "cell_type": "code",
      "source": [
        "def add_one_to_number(digits):\n",
        "    n = len(digits)\n",
        "    carry = 1\n",
        "\n",
        "    for i in range(n - 1, -1, -1):\n",
        "        current_sum = digits[i] + carry\n",
        "        digits[i] = current_sum % 10\n",
        "        carry = current_sum // 10\n",
        "\n",
        "    if carry:\n",
        "\n",
        "        digits.insert(0, carry)\n",
        "\n",
        "    return digits\n",
        "\n",
        "input_digits = [1, 2, 3]\n",
        "output_digits = add_one_to_number(input_digits)\n",
        "print(\"Input:\", input_digits)\n",
        "print(\"Output:\", output_digits)\n"
      ],
      "metadata": {
        "colab": {
          "base_uri": "https://localhost:8080/",
          "height": 0
        },
        "id": "BEqAU6mBa9hf",
        "outputId": "a40a3980-aa3e-4d48-e820-47c93de5c920"
      },
      "execution_count": 6,
      "outputs": [
        {
          "output_type": "stream",
          "name": "stdout",
          "text": [
            "Input: [1, 2, 4]\n",
            "Output: [1, 2, 4]\n"
          ]
        }
      ]
    },
    {
      "cell_type": "markdown",
      "source": [
        "7)Majority Element"
      ],
      "metadata": {
        "id": "NVThDcUkeHWC"
      }
    },
    {
      "cell_type": "code",
      "source": [
        "def majority_element(nums):\n",
        "    count = 0\n",
        "    candidate = None\n",
        "\n",
        "    for num in nums:\n",
        "        if count == 0:\n",
        "            candidate = num\n",
        "\n",
        "        count += 1 if num == candidate else -1\n",
        "\n",
        "    return candidate\n",
        "\n",
        "input_array = [2, 1, 2]\n",
        "result = majority_element(input_array)\n",
        "print(\"Majority Element:\", result)\n"
      ],
      "metadata": {
        "id": "44SjnwUbbG93",
        "colab": {
          "base_uri": "https://localhost:8080/",
          "height": 0
        },
        "outputId": "d1a20e90-a8ec-46a9-9f0f-13dceb63a917"
      },
      "execution_count": 7,
      "outputs": [
        {
          "output_type": "stream",
          "name": "stdout",
          "text": [
            "Majority Element: 2\n"
          ]
        }
      ]
    },
    {
      "cell_type": "markdown",
      "source": [
        "8)Intersection of Linked Lists"
      ],
      "metadata": {
        "id": "dquDnIMqeNCU"
      }
    },
    {
      "cell_type": "code",
      "source": [
        "class ListNode:\n",
        "    def __init__(self, value=0, next=None):\n",
        "        self.value = value\n",
        "        self.next = next\n",
        "\n",
        "def getIntersectionNode(headA, headB):\n",
        "    def getLength(node):\n",
        "        length = 0\n",
        "        while node:\n",
        "            length += 1\n",
        "            node = node.next\n",
        "        return length\n",
        "\n",
        "    lenA, lenB = getLength(headA), getLength(headB)\n",
        "\n",
        "    while lenA > lenB:\n",
        "        headA = headA.next\n",
        "        lenA -= 1\n",
        "\n",
        "    while lenB > lenA:\n",
        "        headB = headB.next\n",
        "        lenB -= 1\n",
        "\n",
        "    while headA != headB:\n",
        "        headA = headA.next\n",
        "        headB = headB.next\n",
        "\n",
        "    return headA\n",
        "\n",
        "headA = ListNode(1, ListNode(2, ListNode(3, ListNode(4, ListNode(5)))))\n",
        "headB = ListNode(6, ListNode(7, headA.next.next))\n",
        "\n",
        "intersection_node = getIntersectionNode(headA, headB)\n",
        "if intersection_node:\n",
        "    print(\"Intersection Node Value:\", intersection_node.value)\n",
        "else:\n",
        "    print(\"No Intersection\")\n"
      ],
      "metadata": {
        "colab": {
          "base_uri": "https://localhost:8080/",
          "height": 0
        },
        "id": "30OSNOWkbZaV",
        "outputId": "e5eb9a03-38cd-419a-bf95-ba036efde3e0"
      },
      "execution_count": 8,
      "outputs": [
        {
          "output_type": "stream",
          "name": "stdout",
          "text": [
            "Intersection Node Value: 3\n"
          ]
        }
      ]
    },
    {
      "cell_type": "markdown",
      "source": [
        "9)Pascal Triangle"
      ],
      "metadata": {
        "id": "Gd_XQKy1eTIY"
      }
    },
    {
      "cell_type": "code",
      "source": [
        "def generate_pascals_triangle(numRows):\n",
        "    if numRows == 0:\n",
        "        return []\n",
        "\n",
        "    triangle = [[1]]\n",
        "\n",
        "    for i in range(1, numRows):\n",
        "        row = [1]\n",
        "        for j in range(1, i):\n",
        "            row.append(triangle[i-1][j-1] + triangle[i-1][j])\n",
        "        row.append(1)\n",
        "        triangle.append(row)\n",
        "\n",
        "    return triangle\n",
        "\n",
        "# Example usage:\n",
        "numRows = 5\n",
        "result = generate_pascals_triangle(numRows)\n",
        "print(result)\n"
      ],
      "metadata": {
        "colab": {
          "base_uri": "https://localhost:8080/",
          "height": 0
        },
        "id": "l9PRpPpZb3B_",
        "outputId": "368a68e1-6983-486e-a335-77f32b4dc92a"
      },
      "execution_count": 9,
      "outputs": [
        {
          "output_type": "stream",
          "name": "stdout",
          "text": [
            "[[1], [1, 1], [1, 2, 1], [1, 3, 3, 1], [1, 4, 6, 4, 1]]\n"
          ]
        }
      ]
    },
    {
      "cell_type": "markdown",
      "source": [
        "10)Palindrome Integer"
      ],
      "metadata": {
        "id": "jaR3pr-regnu"
      }
    },
    {
      "cell_type": "code",
      "source": [
        "def is_palindrome_integer(x):\n",
        "\n",
        "    if x < 0:\n",
        "        return 0\n",
        "\n",
        "    original_num = x\n",
        "    reversed_num = 0\n",
        "\n",
        "\n",
        "    while x > 0:\n",
        "        digit = x % 10\n",
        "        reversed_num = reversed_num * 10 + digit\n",
        "        x = x // 10\n",
        "\n",
        "    return original_num == reversed_num\n",
        "\n",
        "input_num1 = 12121\n",
        "input_num2 = 123\n",
        "\n",
        "output1 = is_palindrome_integer(input_num1)\n",
        "output2 = is_palindrome_integer(input_num2)\n",
        "print(f\"Input: {input_num1}, Output: {output1}\")\n",
        "print(f\"Input: {input_num2}, Output: {output2}\")\n"
      ],
      "metadata": {
        "colab": {
          "base_uri": "https://localhost:8080/",
          "height": 0
        },
        "id": "kTgp9YGrcFoz",
        "outputId": "7465f938-e08d-4ada-9c8c-e41403500f76"
      },
      "execution_count": 10,
      "outputs": [
        {
          "output_type": "stream",
          "name": "stdout",
          "text": [
            "Input: 12121, Output: True\n",
            "Input: 123, Output: False\n"
          ]
        }
      ]
    },
    {
      "cell_type": "markdown",
      "source": [
        "Assignment-3\n",
        "\n",
        "\n",
        "11) Verify Prime"
      ],
      "metadata": {
        "id": "1s0NlwK_etqW"
      }
    },
    {
      "cell_type": "code",
      "source": [
        "def is_prime(N):\n",
        "    if N <= 1:\n",
        "        return 0\n",
        "\n",
        "\n",
        "    for i in range(2, int(N**0.5) + 1):\n",
        "        if N % i == 0:\n",
        "            return 0\n",
        "\n",
        "    return 1\n",
        "input_number = 7\n",
        "output = is_prime(input_number)\n",
        "\n",
        "print(f\"Input: {input_number}, Output: {output}\")\n"
      ],
      "metadata": {
        "colab": {
          "base_uri": "https://localhost:8080/",
          "height": 0
        },
        "id": "Yyj8L1UMcgmJ",
        "outputId": "88fb0603-5a68-4e84-e21a-88c0311f2708"
      },
      "execution_count": 11,
      "outputs": [
        {
          "output_type": "stream",
          "name": "stdout",
          "text": [
            "Input: 7, Output: 1\n"
          ]
        }
      ]
    },
    {
      "cell_type": "markdown",
      "source": [
        "12)Reverse integer"
      ],
      "metadata": {
        "id": "JTrIHXi3exyi"
      }
    },
    {
      "cell_type": "code",
      "source": [
        "def reverse_integer(x):\n",
        "    INT_MAX = 2**31 - 1\n",
        "    INT_MIN = -2**31\n",
        "\n",
        "    sign = 1 if x >= 0 else -1\n",
        "    x = abs(x)\n",
        "    reversed_num = 0\n",
        "\n",
        "    while x > 0:\n",
        "        digit = x % 10\n",
        "        x = x // 10\n",
        "\n",
        "        # Check for overflow\n",
        "        if reversed_num > (INT_MAX - digit) // 10:\n",
        "            return 0\n",
        "\n",
        "        reversed_num = reversed_num * 10 + digit\n",
        "\n",
        "    return sign * reversed_num\n",
        "\n",
        "# Example usage:\n",
        "input_num1 = 123\n",
        "input_num2 = -123\n",
        "\n",
        "output1 = reverse_integer(input_num1)\n",
        "output2 = reverse_integer(input_num2)\n",
        "\n",
        "print(f\"Input: {input_num1}, Output: {output1}\")\n",
        "print(f\"Input: {input_num2}, Output: {output2}\")\n"
      ],
      "metadata": {
        "colab": {
          "base_uri": "https://localhost:8080/",
          "height": 0
        },
        "id": "R3mpuXXvcvn1",
        "outputId": "81586994-a24b-431e-c290-8b9b4e08cfeb"
      },
      "execution_count": 12,
      "outputs": [
        {
          "output_type": "stream",
          "name": "stdout",
          "text": [
            "Input: 123, Output: 321\n",
            "Input: -123, Output: -321\n"
          ]
        }
      ]
    },
    {
      "cell_type": "markdown",
      "source": [
        "13)Excel Column Title"
      ],
      "metadata": {
        "id": "JJY06C-Me2y5"
      }
    },
    {
      "cell_type": "code",
      "source": [
        "def reverse_integer(x):\n",
        "    INT_MAX = 2**31 - 1\n",
        "    INT_MIN = -2**31\n",
        "\n",
        "    sign = 1 if x >= 0 else -1\n",
        "    x = abs(x)\n",
        "    reversed_num = 0\n",
        "\n",
        "    while x > 0:\n",
        "        digit = x % 10\n",
        "        x = x // 10\n",
        "\n",
        "        if reversed_num > (INT_MAX - digit) // 10:\n",
        "            return 0\n",
        "\n",
        "        reversed_num = reversed_num * 10 + digit\n",
        "\n",
        "    return sign * reversed_num\n",
        "\n",
        "input_num1 = 123\n",
        "input_num2 = -123\n",
        "\n",
        "output1 = reverse_integer(input_num1)\n",
        "output2 = reverse_integer(input_num2)\n",
        "\n",
        "print(f\"Input: {input_num1}, Output: {output1}\")\n",
        "print(f\"Input: {input_num2}, Output: {output2}\")\n"
      ],
      "metadata": {
        "colab": {
          "base_uri": "https://localhost:8080/",
          "height": 0
        },
        "id": "gu0wi8Uwc6ye",
        "outputId": "7515b64f-afa4-4b78-f1df-e876b34f942e"
      },
      "execution_count": 13,
      "outputs": [
        {
          "output_type": "stream",
          "name": "stdout",
          "text": [
            "Input: 123, Output: 321\n",
            "Input: -123, Output: -321\n"
          ]
        }
      ]
    },
    {
      "cell_type": "markdown",
      "source": [
        "14)Ants on a Triangle"
      ],
      "metadata": {
        "id": "pPNqJJDRe91a"
      }
    },
    {
      "cell_type": "code",
      "source": [
        "def probability_of_no_collision():\n",
        "    total_outcomes = 2**3\n",
        "    successful_outcomes = 2\n",
        "\n",
        "    probability = successful_outcomes / total_outcomes\n",
        "    rounded_probability = round(probability, 2)\n",
        "\n",
        "    return rounded_probability\n",
        "\n",
        "result = probability_of_no_collision()\n",
        "print(result)\n"
      ],
      "metadata": {
        "colab": {
          "base_uri": "https://localhost:8080/",
          "height": 0
        },
        "id": "4wWFdjU5dI-0",
        "outputId": "1f815c24-3e5c-4e66-d8f7-62ffd43df635"
      },
      "execution_count": 14,
      "outputs": [
        {
          "output_type": "stream",
          "name": "stdout",
          "text": [
            "0.25\n"
          ]
        }
      ]
    },
    {
      "cell_type": "markdown",
      "source": [
        "15)Intersection Of Sorted Arrays"
      ],
      "metadata": {
        "id": "3EtwNcqGfARo"
      }
    },
    {
      "cell_type": "code",
      "source": [
        "def intersect_sorted_arrays(A, B):\n",
        "    result = []\n",
        "    i, j = 0, 0\n",
        "\n",
        "    while i < len(A) and j < len(B):\n",
        "        if A[i] == B[j]:\n",
        "            result.append(A[i])\n",
        "            i += 1\n",
        "            j += 1\n",
        "        elif A[i] < B[j]:\n",
        "            i += 1\n",
        "        else:\n",
        "            j += 1\n",
        "\n",
        "    return result\n",
        "\n",
        "input_array1 = [1, 2, 3, 3, 4, 5, 6]\n",
        "input_array2 = [3, 3, 5]\n",
        "\n",
        "output = intersect_sorted_arrays(input_array1, input_array2)\n",
        "print(\"Output:\", output)\n"
      ],
      "metadata": {
        "colab": {
          "base_uri": "https://localhost:8080/",
          "height": 0
        },
        "id": "KtMSLM4RdWBr",
        "outputId": "64409706-95f4-4239-cca4-08949528c194"
      },
      "execution_count": 15,
      "outputs": [
        {
          "output_type": "stream",
          "name": "stdout",
          "text": [
            "Output: [3, 3, 5]\n"
          ]
        }
      ]
    }
  ]
}